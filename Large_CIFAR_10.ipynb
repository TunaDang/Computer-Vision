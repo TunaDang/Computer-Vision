{
  "nbformat": 4,
  "nbformat_minor": 0,
  "metadata": {
    "colab": {
      "name": "CIFAR-10.ipynb",
      "provenance": [],
      "collapsed_sections": []
    },
    "kernelspec": {
      "name": "python3",
      "display_name": "Python 3"
    },
    "language_info": {
      "name": "python"
    },
    "accelerator": "GPU"
  },
  "cells": [
    {
      "cell_type": "code",
      "metadata": {
        "id": "tgJQlWQxGZCo",
        "colab": {
          "base_uri": "https://localhost:8080/"
        },
        "outputId": "3e1c6777-e660-4c70-c5af-692256abd830"
      },
      "source": [
        "import tensorflow as tf\n",
        "import numpy as np\n",
        "from tensorflow.keras import datasets, layers, models\n",
        "import matplotlib.pyplot as plt\n",
        "\n",
        "print(tf.__version__)"
      ],
      "execution_count": null,
      "outputs": [
        {
          "output_type": "stream",
          "name": "stdout",
          "text": [
            "2.6.0\n"
          ]
        }
      ]
    },
    {
      "cell_type": "code",
      "metadata": {
        "id": "I9JmfAoF5hLA",
        "colab": {
          "base_uri": "https://localhost:8080/"
        },
        "outputId": "bfc4dd08-34c7-432b-e534-dfcfae4c82b5"
      },
      "source": [
        "(train_images, train_labels), (test_images, test_labels) = tf.keras.datasets.cifar10.load_data()\n",
        "train_images, test_images = train_images / 255.0, test_images / 255.0\n",
        "\n",
        "class_names = ['airplane', 'automobile', 'bird', 'cat', 'deer',\n",
        "               'dog', 'frog', 'horse', 'ship', 'truck']"
      ],
      "execution_count": null,
      "outputs": [
        {
          "output_type": "stream",
          "name": "stdout",
          "text": [
            "Downloading data from https://www.cs.toronto.edu/~kriz/cifar-10-python.tar.gz\n",
            "170500096/170498071 [==============================] - 11s 0us/step\n",
            "170508288/170498071 [==============================] - 11s 0us/step\n"
          ]
        }
      ]
    },
    {
      "cell_type": "code",
      "metadata": {
        "colab": {
          "base_uri": "https://localhost:8080/",
          "height": 280
        },
        "id": "sJdN8KHu51Wn",
        "outputId": "0202a6d3-42fa-4f5a-949b-c999bec630d8"
      },
      "source": [
        "# Let's look at a one image\n",
        "IMG_INDEX = 7  # change this to look at other images\n",
        "\n",
        "plt.imshow(train_images[IMG_INDEX] ,cmap=plt.cm.binary)\n",
        "plt.xlabel(class_names[train_labels[IMG_INDEX][0]])\n",
        "plt.show()"
      ],
      "execution_count": null,
      "outputs": [
        {
          "output_type": "display_data",
          "data": {
            "image/png": "[encoded data removed]",
            "text/plain": [
              "<Figure size 432x288 with 1 Axes>"
            ]
          },
          "metadata": {
            "needs_background": "light"
          }
        }
      ]
    },
    {
      "cell_type": "code",
      "metadata": {
        "id": "jb_o2_kv67i9"
      },
      "source": [
        "model = models.Sequential()\n",
        "#Feature Learning\n",
        "model.add(layers.Conv2D(32, (3,3), activation='relu'))\n",
        "model.add(layers.MaxPooling2D(pool_size=(2, 2)))\n",
        "model.add(layers.Conv2D(64, (3,3), activation='relu'))\n",
        "model.add(layers.MaxPooling2D(pool_size=(2, 2)))\n",
        "model.add(layers.Conv2D(64, (3, 3), activation='relu'))\n",
        "#Classification\n",
        "model.add(layers.Flatten())\n",
        "model.add(layers.Dense(64, activation='relu'))\n",
        "model.add(layers.Dense(10))"
      ],
      "execution_count": null,
      "outputs": []
    },
    {
      "cell_type": "code",
      "metadata": {
        "colab": {
          "base_uri": "https://localhost:8080/"
        },
        "id": "NpcE8yAn_6Nj",
        "outputId": "f8cf23d2-ffb6-4507-f26e-a109337676a8"
      },
      "source": [
        "prediction = model(train_images[:1]).numpy()\n",
        "prediction"
      ],
      "execution_count": null,
      "outputs": [
        {
          "output_type": "execute_result",
          "data": {
            "text/plain": [
              "array([[ 0.10601994, -0.13280728, -0.03547163, -0.01531995,  0.01175541,\n",
              "         0.09220099,  0.01978506, -0.17336017, -0.02796198,  0.0336652 ]],\n",
              "      dtype=float32)"
            ]
          },
          "metadata": {},
          "execution_count": 6
        }
      ]
    },
    {
      "cell_type": "code",
      "metadata": {
        "colab": {
          "base_uri": "https://localhost:8080/"
        },
        "id": "w8Bdr6clACmh",
        "outputId": "dd7ab490-d5af-41e9-c1fa-62fd8f98ef97"
      },
      "source": [
        "tf.nn.softmax(prediction).numpy()"
      ],
      "execution_count": null,
      "outputs": [
        {
          "output_type": "execute_result",
          "data": {
            "text/plain": [
              "array([[0.11215663, 0.08832905, 0.09735896, 0.09934082, 0.10206724,\n",
              "        0.1106174 , 0.10289011, 0.08481872, 0.09809285, 0.10432819]],\n",
              "      dtype=float32)"
            ]
          },
          "metadata": {},
          "execution_count": 7
        }
      ]
    },
    {
      "cell_type": "code",
      "metadata": {
        "colab": {
          "base_uri": "https://localhost:8080/"
        },
        "id": "kWNnXtLdAp5e",
        "outputId": "3a1053e3-688f-4f30-fd8d-edb8af457d57"
      },
      "source": [
        "loss_fn = tf.keras.losses.SparseCategoricalCrossentropy(from_logits=True)\n",
        "loss_fn(train_labels[:1], prediction).numpy()"
      ],
      "execution_count": null,
      "outputs": [
        {
          "output_type": "execute_result",
          "data": {
            "text/plain": [
              "2.2740936"
            ]
          },
          "metadata": {},
          "execution_count": 8
        }
      ]
    },
    {
      "cell_type": "code",
      "metadata": {
        "id": "dhkcCnuYAraF"
      },
      "source": [
        "model.compile(optimizer='adam',\n",
        "              loss=loss_fn,\n",
        "              metrics=['accuracy'])\n"
      ],
      "execution_count": null,
      "outputs": []
    },
    {
      "cell_type": "code",
      "metadata": {
        "colab": {
          "base_uri": "https://localhost:8080/"
        },
        "id": "FTl8ATc2TDup",
        "outputId": "e3c70a38-109b-4447-b701-48f84fc22c28"
      },
      "source": [
        "model.get_weights()[4].shape\n"
      ],
      "execution_count": null,
      "outputs": [
        {
          "output_type": "execute_result",
          "data": {
            "text/plain": [
              "(3, 3, 64, 64)"
            ]
          },
          "metadata": {},
          "execution_count": 10
        }
      ]
    },
    {
      "cell_type": "code",
      "metadata": {
        "colab": {
          "base_uri": "https://localhost:8080/"
        },
        "id": "4Ghp4GC5Awn-",
        "outputId": "0b637281-0bde-481d-fa2e-840842d83dbb"
      },
      "source": [
        "model.fit(train_images, train_labels, epochs=50)"
      ],
      "execution_count": null,
      "outputs": [
        {
          "output_type": "stream",
          "name": "stdout",
          "text": [
            "Epoch 1/50\n",
            "1563/1563 [==============================] - 10s 6ms/step - loss: 0.7208 - accuracy: 0.7477\n",
            "Epoch 2/50\n",
            "1563/1563 [==============================] - 10s 7ms/step - loss: 0.6699 - accuracy: 0.7661\n",
            "Epoch 3/50\n",
            "1563/1563 [==============================] - 10s 7ms/step - loss: 0.6307 - accuracy: 0.7791\n",
            "Epoch 4/50\n",
            "1563/1563 [==============================] - 10s 7ms/step - loss: 0.5893 - accuracy: 0.7941\n",
            "Epoch 5/50\n",
            "1563/1563 [==============================] - 10s 7ms/step - loss: 0.5535 - accuracy: 0.8052\n",
            "Epoch 6/50\n",
            "1563/1563 [==============================] - 10s 7ms/step - loss: 0.5239 - accuracy: 0.8154\n",
            "Epoch 7/50\n",
            "1563/1563 [==============================] - 10s 7ms/step - loss: 0.4902 - accuracy: 0.8280\n",
            "Epoch 8/50\n",
            "1563/1563 [==============================] - 10s 6ms/step - loss: 0.4607 - accuracy: 0.8385\n",
            "Epoch 9/50\n",
            "1563/1563 [==============================] - 10s 6ms/step - loss: 0.4343 - accuracy: 0.8447\n",
            "Epoch 10/50\n",
            "1563/1563 [==============================] - 10s 6ms/step - loss: 0.4118 - accuracy: 0.8522\n",
            "Epoch 11/50\n",
            "1563/1563 [==============================] - 10s 6ms/step - loss: 0.3819 - accuracy: 0.8642\n",
            "Epoch 12/50\n",
            "1563/1563 [==============================] - 10s 6ms/step - loss: 0.3566 - accuracy: 0.8730\n",
            "Epoch 13/50\n",
            "1563/1563 [==============================] - 10s 6ms/step - loss: 0.3410 - accuracy: 0.8779\n",
            "Epoch 14/50\n",
            "1563/1563 [==============================] - 10s 6ms/step - loss: 0.3210 - accuracy: 0.8861\n",
            "Epoch 15/50\n",
            "1563/1563 [==============================] - 10s 6ms/step - loss: 0.3027 - accuracy: 0.8904\n",
            "Epoch 16/50\n",
            "1563/1563 [==============================] - 10s 7ms/step - loss: 0.2833 - accuracy: 0.8978\n",
            "Epoch 17/50\n",
            "1563/1563 [==============================] - 10s 6ms/step - loss: 0.2691 - accuracy: 0.9012\n",
            "Epoch 18/50\n",
            "1563/1563 [==============================] - 10s 6ms/step - loss: 0.2596 - accuracy: 0.9060\n",
            "Epoch 19/50\n",
            "1563/1563 [==============================] - 10s 6ms/step - loss: 0.2393 - accuracy: 0.9121\n",
            "Epoch 20/50\n",
            "1563/1563 [==============================] - 10s 6ms/step - loss: 0.2300 - accuracy: 0.9175\n",
            "Epoch 21/50\n",
            "1563/1563 [==============================] - 10s 6ms/step - loss: 0.2225 - accuracy: 0.9180\n",
            "Epoch 22/50\n",
            "1563/1563 [==============================] - 10s 6ms/step - loss: 0.2151 - accuracy: 0.9224\n",
            "Epoch 23/50\n",
            "1563/1563 [==============================] - 10s 6ms/step - loss: 0.2016 - accuracy: 0.9259\n",
            "Epoch 24/50\n",
            "1563/1563 [==============================] - 10s 6ms/step - loss: 0.1957 - accuracy: 0.9294\n",
            "Epoch 25/50\n",
            "1563/1563 [==============================] - 10s 7ms/step - loss: 0.1943 - accuracy: 0.9297\n",
            "Epoch 26/50\n",
            "1563/1563 [==============================] - 10s 7ms/step - loss: 0.1807 - accuracy: 0.9344\n",
            "Epoch 27/50\n",
            "1563/1563 [==============================] - 10s 7ms/step - loss: 0.1817 - accuracy: 0.9342\n",
            "Epoch 28/50\n",
            "1563/1563 [==============================] - 10s 7ms/step - loss: 0.1642 - accuracy: 0.9415\n",
            "Epoch 29/50\n",
            "1563/1563 [==============================] - 10s 7ms/step - loss: 0.1678 - accuracy: 0.9406\n",
            "Epoch 30/50\n",
            "1563/1563 [==============================] - 10s 7ms/step - loss: 0.1685 - accuracy: 0.9402\n",
            "Epoch 31/50\n",
            "1563/1563 [==============================] - 10s 6ms/step - loss: 0.1601 - accuracy: 0.9426\n",
            "Epoch 32/50\n",
            "1563/1563 [==============================] - 10s 7ms/step - loss: 0.1562 - accuracy: 0.9444\n",
            "Epoch 33/50\n",
            "1563/1563 [==============================] - 10s 7ms/step - loss: 0.1542 - accuracy: 0.9451\n",
            "Epoch 34/50\n",
            "1563/1563 [==============================] - 10s 7ms/step - loss: 0.1420 - accuracy: 0.9484\n",
            "Epoch 35/50\n",
            "1563/1563 [==============================] - 10s 7ms/step - loss: 0.1469 - accuracy: 0.9472\n",
            "Epoch 36/50\n",
            "1563/1563 [==============================] - 10s 7ms/step - loss: 0.1425 - accuracy: 0.9499\n",
            "Epoch 37/50\n",
            "1563/1563 [==============================] - 10s 7ms/step - loss: 0.1318 - accuracy: 0.9531\n",
            "Epoch 38/50\n",
            "1563/1563 [==============================] - 10s 7ms/step - loss: 0.1462 - accuracy: 0.9492\n",
            "Epoch 39/50\n",
            "1563/1563 [==============================] - 10s 7ms/step - loss: 0.1299 - accuracy: 0.9540\n",
            "Epoch 40/50\n",
            "1563/1563 [==============================] - 10s 7ms/step - loss: 0.1287 - accuracy: 0.9558\n",
            "Epoch 41/50\n",
            "1563/1563 [==============================] - 10s 7ms/step - loss: 0.1378 - accuracy: 0.9514\n",
            "Epoch 42/50\n",
            "1563/1563 [==============================] - 10s 7ms/step - loss: 0.1281 - accuracy: 0.9572\n",
            "Epoch 43/50\n",
            "1563/1563 [==============================] - 10s 7ms/step - loss: 0.1226 - accuracy: 0.9568\n",
            "Epoch 44/50\n",
            "1563/1563 [==============================] - 10s 7ms/step - loss: 0.1249 - accuracy: 0.9557\n",
            "Epoch 45/50\n",
            "1563/1563 [==============================] - 10s 7ms/step - loss: 0.1306 - accuracy: 0.9555\n",
            "Epoch 46/50\n",
            "1563/1563 [==============================] - 10s 7ms/step - loss: 0.1242 - accuracy: 0.9573\n",
            "Epoch 47/50\n",
            "1563/1563 [==============================] - 10s 7ms/step - loss: 0.1190 - accuracy: 0.9592\n",
            "Epoch 48/50\n",
            "1563/1563 [==============================] - 10s 7ms/step - loss: 0.1123 - accuracy: 0.9607\n",
            "Epoch 49/50\n",
            "1563/1563 [==============================] - 10s 7ms/step - loss: 0.1218 - accuracy: 0.9575\n",
            "Epoch 50/50\n",
            "1563/1563 [==============================] - 10s 6ms/step - loss: 0.1122 - accuracy: 0.9613\n"
          ]
        },
        {
          "output_type": "execute_result",
          "data": {
            "text/plain": [
              "<keras.callbacks.History at 0x7f375d183610>"
            ]
          },
          "metadata": {},
          "execution_count": 13
        }
      ]
    },
    {
      "cell_type": "code",
      "metadata": {
        "colab": {
          "base_uri": "https://localhost:8080/"
        },
        "id": "XXcYP1G2AyKU",
        "outputId": "5861d9b9-b73a-4ea3-9f89-d678465c02d8"
      },
      "source": [
        "#Evaluate accuracy on the test set\n",
        "model.evaluate(test_images, test_labels, verbose=2)\n"
      ],
      "execution_count": null,
      "outputs": [
        {
          "output_type": "stream",
          "name": "stdout",
          "text": [
            "313/313 - 1s - loss: 2.7082 - accuracy: 0.6820\n"
          ]
        },
        {
          "output_type": "execute_result",
          "data": {
            "text/plain": [
              "[2.708164930343628, 0.6819999814033508]"
            ]
          },
          "metadata": {},
          "execution_count": 14
        }
      ]
    }
  ]
}